{
  "nbformat": 4,
  "nbformat_minor": 0,
  "metadata": {
    "colab": {
      "provenance": []
    },
    "kernelspec": {
      "name": "python3",
      "display_name": "Python 3"
    },
    "language_info": {
      "name": "python"
    }
  },
  "cells": [
    {
      "cell_type": "markdown",
      "source": [
        "#Defining Problem Statement and Analyzing basic metrics"
      ],
      "metadata": {
        "id": "K-JJ2VagRMqM"
      }
    },
    {
      "cell_type": "markdown",
      "source": [
        "# Problem Statement\n",
        "\n",
        "  - The Management team at Walmart Inc. wants to analyze the customer purchase behavior (specifically, purchase amount) against the customer’s gender and the various other factors to help the business make better decisions. They want to understand:\n",
        "  \n",
        "    - Does the spending habits differ between male and female customers : Do women spend more on Black Friday than men? (Assume 50 million customers are male and 50 million are female).\n"
      ],
      "metadata": {
        "id": "TzvUsIjqxSUY"
      }
    },
    {
      "cell_type": "markdown",
      "source": [],
      "metadata": {
        "id": "wi3KqRa4RF9s"
      }
    },
    {
      "cell_type": "code",
      "execution_count": 1,
      "metadata": {
        "id": "PGYlUB7KPgZr"
      },
      "outputs": [],
      "source": [
        "import numpy as np\n",
        "import pandas as pd\n",
        "import matplotlib.pyplot as plt\n",
        "import seaborn as sns\n",
        "from scipy.stats import ttest_ind, norm"
      ]
    },
    {
      "cell_type": "code",
      "source": [
        "df = pd.read_csv(\"/content/drive/MyDrive/01. Data Set for Colab Notebooks/walmart_data.csv\")\n",
        "df.head()"
      ],
      "metadata": {
        "colab": {
          "base_uri": "https://localhost:8080/",
          "height": 206
        },
        "id": "GXg2sAUaYRDc",
        "outputId": "81edd727-a7a4-4a15-e5e9-d61fb799c447"
      },
      "execution_count": 2,
      "outputs": [
        {
          "output_type": "execute_result",
          "data": {
            "text/plain": [
              "   User_ID Product_ID Gender   Age  Occupation City_Category  \\\n",
              "0  1000001  P00069042      F  0-17          10             A   \n",
              "1  1000001  P00248942      F  0-17          10             A   \n",
              "2  1000001  P00087842      F  0-17          10             A   \n",
              "3  1000001  P00085442      F  0-17          10             A   \n",
              "4  1000002  P00285442      M   55+          16             C   \n",
              "\n",
              "  Stay_In_Current_City_Years  Marital_Status  Product_Category  Purchase  \n",
              "0                          2               0                 3      8370  \n",
              "1                          2               0                 1     15200  \n",
              "2                          2               0                12      1422  \n",
              "3                          2               0                12      1057  \n",
              "4                         4+               0                 8      7969  "
            ],
            "text/html": [
              "\n",
              "  <div id=\"df-c9722a4e-ebef-4672-969c-c2402f500800\" class=\"colab-df-container\">\n",
              "    <div>\n",
              "<style scoped>\n",
              "    .dataframe tbody tr th:only-of-type {\n",
              "        vertical-align: middle;\n",
              "    }\n",
              "\n",
              "    .dataframe tbody tr th {\n",
              "        vertical-align: top;\n",
              "    }\n",
              "\n",
              "    .dataframe thead th {\n",
              "        text-align: right;\n",
              "    }\n",
              "</style>\n",
              "<table border=\"1\" class=\"dataframe\">\n",
              "  <thead>\n",
              "    <tr style=\"text-align: right;\">\n",
              "      <th></th>\n",
              "      <th>User_ID</th>\n",
              "      <th>Product_ID</th>\n",
              "      <th>Gender</th>\n",
              "      <th>Age</th>\n",
              "      <th>Occupation</th>\n",
              "      <th>City_Category</th>\n",
              "      <th>Stay_In_Current_City_Years</th>\n",
              "      <th>Marital_Status</th>\n",
              "      <th>Product_Category</th>\n",
              "      <th>Purchase</th>\n",
              "    </tr>\n",
              "  </thead>\n",
              "  <tbody>\n",
              "    <tr>\n",
              "      <th>0</th>\n",
              "      <td>1000001</td>\n",
              "      <td>P00069042</td>\n",
              "      <td>F</td>\n",
              "      <td>0-17</td>\n",
              "      <td>10</td>\n",
              "      <td>A</td>\n",
              "      <td>2</td>\n",
              "      <td>0</td>\n",
              "      <td>3</td>\n",
              "      <td>8370</td>\n",
              "    </tr>\n",
              "    <tr>\n",
              "      <th>1</th>\n",
              "      <td>1000001</td>\n",
              "      <td>P00248942</td>\n",
              "      <td>F</td>\n",
              "      <td>0-17</td>\n",
              "      <td>10</td>\n",
              "      <td>A</td>\n",
              "      <td>2</td>\n",
              "      <td>0</td>\n",
              "      <td>1</td>\n",
              "      <td>15200</td>\n",
              "    </tr>\n",
              "    <tr>\n",
              "      <th>2</th>\n",
              "      <td>1000001</td>\n",
              "      <td>P00087842</td>\n",
              "      <td>F</td>\n",
              "      <td>0-17</td>\n",
              "      <td>10</td>\n",
              "      <td>A</td>\n",
              "      <td>2</td>\n",
              "      <td>0</td>\n",
              "      <td>12</td>\n",
              "      <td>1422</td>\n",
              "    </tr>\n",
              "    <tr>\n",
              "      <th>3</th>\n",
              "      <td>1000001</td>\n",
              "      <td>P00085442</td>\n",
              "      <td>F</td>\n",
              "      <td>0-17</td>\n",
              "      <td>10</td>\n",
              "      <td>A</td>\n",
              "      <td>2</td>\n",
              "      <td>0</td>\n",
              "      <td>12</td>\n",
              "      <td>1057</td>\n",
              "    </tr>\n",
              "    <tr>\n",
              "      <th>4</th>\n",
              "      <td>1000002</td>\n",
              "      <td>P00285442</td>\n",
              "      <td>M</td>\n",
              "      <td>55+</td>\n",
              "      <td>16</td>\n",
              "      <td>C</td>\n",
              "      <td>4+</td>\n",
              "      <td>0</td>\n",
              "      <td>8</td>\n",
              "      <td>7969</td>\n",
              "    </tr>\n",
              "  </tbody>\n",
              "</table>\n",
              "</div>\n",
              "    <div class=\"colab-df-buttons\">\n",
              "\n",
              "  <div class=\"colab-df-container\">\n",
              "    <button class=\"colab-df-convert\" onclick=\"convertToInteractive('df-c9722a4e-ebef-4672-969c-c2402f500800')\"\n",
              "            title=\"Convert this dataframe to an interactive table.\"\n",
              "            style=\"display:none;\">\n",
              "\n",
              "  <svg xmlns=\"http://www.w3.org/2000/svg\" height=\"24px\" viewBox=\"0 -960 960 960\">\n",
              "    <path d=\"M120-120v-720h720v720H120Zm60-500h600v-160H180v160Zm220 220h160v-160H400v160Zm0 220h160v-160H400v160ZM180-400h160v-160H180v160Zm440 0h160v-160H620v160ZM180-180h160v-160H180v160Zm440 0h160v-160H620v160Z\"/>\n",
              "  </svg>\n",
              "    </button>\n",
              "\n",
              "  <style>\n",
              "    .colab-df-container {\n",
              "      display:flex;\n",
              "      gap: 12px;\n",
              "    }\n",
              "\n",
              "    .colab-df-convert {\n",
              "      background-color: #E8F0FE;\n",
              "      border: none;\n",
              "      border-radius: 50%;\n",
              "      cursor: pointer;\n",
              "      display: none;\n",
              "      fill: #1967D2;\n",
              "      height: 32px;\n",
              "      padding: 0 0 0 0;\n",
              "      width: 32px;\n",
              "    }\n",
              "\n",
              "    .colab-df-convert:hover {\n",
              "      background-color: #E2EBFA;\n",
              "      box-shadow: 0px 1px 2px rgba(60, 64, 67, 0.3), 0px 1px 3px 1px rgba(60, 64, 67, 0.15);\n",
              "      fill: #174EA6;\n",
              "    }\n",
              "\n",
              "    .colab-df-buttons div {\n",
              "      margin-bottom: 4px;\n",
              "    }\n",
              "\n",
              "    [theme=dark] .colab-df-convert {\n",
              "      background-color: #3B4455;\n",
              "      fill: #D2E3FC;\n",
              "    }\n",
              "\n",
              "    [theme=dark] .colab-df-convert:hover {\n",
              "      background-color: #434B5C;\n",
              "      box-shadow: 0px 1px 3px 1px rgba(0, 0, 0, 0.15);\n",
              "      filter: drop-shadow(0px 1px 2px rgba(0, 0, 0, 0.3));\n",
              "      fill: #FFFFFF;\n",
              "    }\n",
              "  </style>\n",
              "\n",
              "    <script>\n",
              "      const buttonEl =\n",
              "        document.querySelector('#df-c9722a4e-ebef-4672-969c-c2402f500800 button.colab-df-convert');\n",
              "      buttonEl.style.display =\n",
              "        google.colab.kernel.accessAllowed ? 'block' : 'none';\n",
              "\n",
              "      async function convertToInteractive(key) {\n",
              "        const element = document.querySelector('#df-c9722a4e-ebef-4672-969c-c2402f500800');\n",
              "        const dataTable =\n",
              "          await google.colab.kernel.invokeFunction('convertToInteractive',\n",
              "                                                    [key], {});\n",
              "        if (!dataTable) return;\n",
              "\n",
              "        const docLinkHtml = 'Like what you see? Visit the ' +\n",
              "          '<a target=\"_blank\" href=https://colab.research.google.com/notebooks/data_table.ipynb>data table notebook</a>'\n",
              "          + ' to learn more about interactive tables.';\n",
              "        element.innerHTML = '';\n",
              "        dataTable['output_type'] = 'display_data';\n",
              "        await google.colab.output.renderOutput(dataTable, element);\n",
              "        const docLink = document.createElement('div');\n",
              "        docLink.innerHTML = docLinkHtml;\n",
              "        element.appendChild(docLink);\n",
              "      }\n",
              "    </script>\n",
              "  </div>\n",
              "\n",
              "\n",
              "    <div id=\"df-38571d0c-7a14-4bac-97c7-4e9d4ead789d\">\n",
              "      <button class=\"colab-df-quickchart\" onclick=\"quickchart('df-38571d0c-7a14-4bac-97c7-4e9d4ead789d')\"\n",
              "                title=\"Suggest charts\"\n",
              "                style=\"display:none;\">\n",
              "\n",
              "<svg xmlns=\"http://www.w3.org/2000/svg\" height=\"24px\"viewBox=\"0 0 24 24\"\n",
              "     width=\"24px\">\n",
              "    <g>\n",
              "        <path d=\"M19 3H5c-1.1 0-2 .9-2 2v14c0 1.1.9 2 2 2h14c1.1 0 2-.9 2-2V5c0-1.1-.9-2-2-2zM9 17H7v-7h2v7zm4 0h-2V7h2v10zm4 0h-2v-4h2v4z\"/>\n",
              "    </g>\n",
              "</svg>\n",
              "      </button>\n",
              "\n",
              "<style>\n",
              "  .colab-df-quickchart {\n",
              "      --bg-color: #E8F0FE;\n",
              "      --fill-color: #1967D2;\n",
              "      --hover-bg-color: #E2EBFA;\n",
              "      --hover-fill-color: #174EA6;\n",
              "      --disabled-fill-color: #AAA;\n",
              "      --disabled-bg-color: #DDD;\n",
              "  }\n",
              "\n",
              "  [theme=dark] .colab-df-quickchart {\n",
              "      --bg-color: #3B4455;\n",
              "      --fill-color: #D2E3FC;\n",
              "      --hover-bg-color: #434B5C;\n",
              "      --hover-fill-color: #FFFFFF;\n",
              "      --disabled-bg-color: #3B4455;\n",
              "      --disabled-fill-color: #666;\n",
              "  }\n",
              "\n",
              "  .colab-df-quickchart {\n",
              "    background-color: var(--bg-color);\n",
              "    border: none;\n",
              "    border-radius: 50%;\n",
              "    cursor: pointer;\n",
              "    display: none;\n",
              "    fill: var(--fill-color);\n",
              "    height: 32px;\n",
              "    padding: 0;\n",
              "    width: 32px;\n",
              "  }\n",
              "\n",
              "  .colab-df-quickchart:hover {\n",
              "    background-color: var(--hover-bg-color);\n",
              "    box-shadow: 0 1px 2px rgba(60, 64, 67, 0.3), 0 1px 3px 1px rgba(60, 64, 67, 0.15);\n",
              "    fill: var(--button-hover-fill-color);\n",
              "  }\n",
              "\n",
              "  .colab-df-quickchart-complete:disabled,\n",
              "  .colab-df-quickchart-complete:disabled:hover {\n",
              "    background-color: var(--disabled-bg-color);\n",
              "    fill: var(--disabled-fill-color);\n",
              "    box-shadow: none;\n",
              "  }\n",
              "\n",
              "  .colab-df-spinner {\n",
              "    border: 2px solid var(--fill-color);\n",
              "    border-color: transparent;\n",
              "    border-bottom-color: var(--fill-color);\n",
              "    animation:\n",
              "      spin 1s steps(1) infinite;\n",
              "  }\n",
              "\n",
              "  @keyframes spin {\n",
              "    0% {\n",
              "      border-color: transparent;\n",
              "      border-bottom-color: var(--fill-color);\n",
              "      border-left-color: var(--fill-color);\n",
              "    }\n",
              "    20% {\n",
              "      border-color: transparent;\n",
              "      border-left-color: var(--fill-color);\n",
              "      border-top-color: var(--fill-color);\n",
              "    }\n",
              "    30% {\n",
              "      border-color: transparent;\n",
              "      border-left-color: var(--fill-color);\n",
              "      border-top-color: var(--fill-color);\n",
              "      border-right-color: var(--fill-color);\n",
              "    }\n",
              "    40% {\n",
              "      border-color: transparent;\n",
              "      border-right-color: var(--fill-color);\n",
              "      border-top-color: var(--fill-color);\n",
              "    }\n",
              "    60% {\n",
              "      border-color: transparent;\n",
              "      border-right-color: var(--fill-color);\n",
              "    }\n",
              "    80% {\n",
              "      border-color: transparent;\n",
              "      border-right-color: var(--fill-color);\n",
              "      border-bottom-color: var(--fill-color);\n",
              "    }\n",
              "    90% {\n",
              "      border-color: transparent;\n",
              "      border-bottom-color: var(--fill-color);\n",
              "    }\n",
              "  }\n",
              "</style>\n",
              "\n",
              "      <script>\n",
              "        async function quickchart(key) {\n",
              "          const quickchartButtonEl =\n",
              "            document.querySelector('#' + key + ' button');\n",
              "          quickchartButtonEl.disabled = true;  // To prevent multiple clicks.\n",
              "          quickchartButtonEl.classList.add('colab-df-spinner');\n",
              "          try {\n",
              "            const charts = await google.colab.kernel.invokeFunction(\n",
              "                'suggestCharts', [key], {});\n",
              "          } catch (error) {\n",
              "            console.error('Error during call to suggestCharts:', error);\n",
              "          }\n",
              "          quickchartButtonEl.classList.remove('colab-df-spinner');\n",
              "          quickchartButtonEl.classList.add('colab-df-quickchart-complete');\n",
              "        }\n",
              "        (() => {\n",
              "          let quickchartButtonEl =\n",
              "            document.querySelector('#df-38571d0c-7a14-4bac-97c7-4e9d4ead789d button');\n",
              "          quickchartButtonEl.style.display =\n",
              "            google.colab.kernel.accessAllowed ? 'block' : 'none';\n",
              "        })();\n",
              "      </script>\n",
              "    </div>\n",
              "\n",
              "    </div>\n",
              "  </div>\n"
            ],
            "application/vnd.google.colaboratory.intrinsic+json": {
              "type": "dataframe",
              "variable_name": "df"
            }
          },
          "metadata": {},
          "execution_count": 2
        }
      ]
    },
    {
      "cell_type": "code",
      "source": [
        "df.shape"
      ],
      "metadata": {
        "colab": {
          "base_uri": "https://localhost:8080/"
        },
        "id": "_tO5o-aPfPy-",
        "outputId": "ccfe5143-8d0d-4aa4-86a7-fddb696a7443"
      },
      "execution_count": 3,
      "outputs": [
        {
          "output_type": "execute_result",
          "data": {
            "text/plain": [
              "(550068, 10)"
            ]
          },
          "metadata": {},
          "execution_count": 3
        }
      ]
    },
    {
      "cell_type": "code",
      "source": [
        "df.info()"
      ],
      "metadata": {
        "colab": {
          "base_uri": "https://localhost:8080/"
        },
        "id": "2srv34aJfVf1",
        "outputId": "e5c74c97-0a77-4826-f5c5-ce4b11303c5d"
      },
      "execution_count": 4,
      "outputs": [
        {
          "output_type": "stream",
          "name": "stdout",
          "text": [
            "<class 'pandas.core.frame.DataFrame'>\n",
            "RangeIndex: 550068 entries, 0 to 550067\n",
            "Data columns (total 10 columns):\n",
            " #   Column                      Non-Null Count   Dtype \n",
            "---  ------                      --------------   ----- \n",
            " 0   User_ID                     550068 non-null  int64 \n",
            " 1   Product_ID                  550068 non-null  object\n",
            " 2   Gender                      550068 non-null  object\n",
            " 3   Age                         550068 non-null  object\n",
            " 4   Occupation                  550068 non-null  int64 \n",
            " 5   City_Category               550068 non-null  object\n",
            " 6   Stay_In_Current_City_Years  550068 non-null  object\n",
            " 7   Marital_Status              550068 non-null  int64 \n",
            " 8   Product_Category            550068 non-null  int64 \n",
            " 9   Purchase                    550068 non-null  int64 \n",
            "dtypes: int64(5), object(5)\n",
            "memory usage: 42.0+ MB\n"
          ]
        }
      ]
    },
    {
      "cell_type": "code",
      "source": [
        "df.describe()"
      ],
      "metadata": {
        "colab": {
          "base_uri": "https://localhost:8080/",
          "height": 300
        },
        "id": "GIwiSVtGfYcW",
        "outputId": "63197586-1ab2-42ee-d8bf-c67701a07eab"
      },
      "execution_count": 5,
      "outputs": [
        {
          "output_type": "execute_result",
          "data": {
            "text/plain": [
              "            User_ID     Occupation  Marital_Status  Product_Category  \\\n",
              "count  5.500680e+05  550068.000000   550068.000000     550068.000000   \n",
              "mean   1.003029e+06       8.076707        0.409653          5.404270   \n",
              "std    1.727592e+03       6.522660        0.491770          3.936211   \n",
              "min    1.000001e+06       0.000000        0.000000          1.000000   \n",
              "25%    1.001516e+06       2.000000        0.000000          1.000000   \n",
              "50%    1.003077e+06       7.000000        0.000000          5.000000   \n",
              "75%    1.004478e+06      14.000000        1.000000          8.000000   \n",
              "max    1.006040e+06      20.000000        1.000000         20.000000   \n",
              "\n",
              "            Purchase  \n",
              "count  550068.000000  \n",
              "mean     9263.968713  \n",
              "std      5023.065394  \n",
              "min        12.000000  \n",
              "25%      5823.000000  \n",
              "50%      8047.000000  \n",
              "75%     12054.000000  \n",
              "max     23961.000000  "
            ],
            "text/html": [
              "\n",
              "  <div id=\"df-cea07495-5689-4a60-9ea1-ff1883de112f\" class=\"colab-df-container\">\n",
              "    <div>\n",
              "<style scoped>\n",
              "    .dataframe tbody tr th:only-of-type {\n",
              "        vertical-align: middle;\n",
              "    }\n",
              "\n",
              "    .dataframe tbody tr th {\n",
              "        vertical-align: top;\n",
              "    }\n",
              "\n",
              "    .dataframe thead th {\n",
              "        text-align: right;\n",
              "    }\n",
              "</style>\n",
              "<table border=\"1\" class=\"dataframe\">\n",
              "  <thead>\n",
              "    <tr style=\"text-align: right;\">\n",
              "      <th></th>\n",
              "      <th>User_ID</th>\n",
              "      <th>Occupation</th>\n",
              "      <th>Marital_Status</th>\n",
              "      <th>Product_Category</th>\n",
              "      <th>Purchase</th>\n",
              "    </tr>\n",
              "  </thead>\n",
              "  <tbody>\n",
              "    <tr>\n",
              "      <th>count</th>\n",
              "      <td>5.500680e+05</td>\n",
              "      <td>550068.000000</td>\n",
              "      <td>550068.000000</td>\n",
              "      <td>550068.000000</td>\n",
              "      <td>550068.000000</td>\n",
              "    </tr>\n",
              "    <tr>\n",
              "      <th>mean</th>\n",
              "      <td>1.003029e+06</td>\n",
              "      <td>8.076707</td>\n",
              "      <td>0.409653</td>\n",
              "      <td>5.404270</td>\n",
              "      <td>9263.968713</td>\n",
              "    </tr>\n",
              "    <tr>\n",
              "      <th>std</th>\n",
              "      <td>1.727592e+03</td>\n",
              "      <td>6.522660</td>\n",
              "      <td>0.491770</td>\n",
              "      <td>3.936211</td>\n",
              "      <td>5023.065394</td>\n",
              "    </tr>\n",
              "    <tr>\n",
              "      <th>min</th>\n",
              "      <td>1.000001e+06</td>\n",
              "      <td>0.000000</td>\n",
              "      <td>0.000000</td>\n",
              "      <td>1.000000</td>\n",
              "      <td>12.000000</td>\n",
              "    </tr>\n",
              "    <tr>\n",
              "      <th>25%</th>\n",
              "      <td>1.001516e+06</td>\n",
              "      <td>2.000000</td>\n",
              "      <td>0.000000</td>\n",
              "      <td>1.000000</td>\n",
              "      <td>5823.000000</td>\n",
              "    </tr>\n",
              "    <tr>\n",
              "      <th>50%</th>\n",
              "      <td>1.003077e+06</td>\n",
              "      <td>7.000000</td>\n",
              "      <td>0.000000</td>\n",
              "      <td>5.000000</td>\n",
              "      <td>8047.000000</td>\n",
              "    </tr>\n",
              "    <tr>\n",
              "      <th>75%</th>\n",
              "      <td>1.004478e+06</td>\n",
              "      <td>14.000000</td>\n",
              "      <td>1.000000</td>\n",
              "      <td>8.000000</td>\n",
              "      <td>12054.000000</td>\n",
              "    </tr>\n",
              "    <tr>\n",
              "      <th>max</th>\n",
              "      <td>1.006040e+06</td>\n",
              "      <td>20.000000</td>\n",
              "      <td>1.000000</td>\n",
              "      <td>20.000000</td>\n",
              "      <td>23961.000000</td>\n",
              "    </tr>\n",
              "  </tbody>\n",
              "</table>\n",
              "</div>\n",
              "    <div class=\"colab-df-buttons\">\n",
              "\n",
              "  <div class=\"colab-df-container\">\n",
              "    <button class=\"colab-df-convert\" onclick=\"convertToInteractive('df-cea07495-5689-4a60-9ea1-ff1883de112f')\"\n",
              "            title=\"Convert this dataframe to an interactive table.\"\n",
              "            style=\"display:none;\">\n",
              "\n",
              "  <svg xmlns=\"http://www.w3.org/2000/svg\" height=\"24px\" viewBox=\"0 -960 960 960\">\n",
              "    <path d=\"M120-120v-720h720v720H120Zm60-500h600v-160H180v160Zm220 220h160v-160H400v160Zm0 220h160v-160H400v160ZM180-400h160v-160H180v160Zm440 0h160v-160H620v160ZM180-180h160v-160H180v160Zm440 0h160v-160H620v160Z\"/>\n",
              "  </svg>\n",
              "    </button>\n",
              "\n",
              "  <style>\n",
              "    .colab-df-container {\n",
              "      display:flex;\n",
              "      gap: 12px;\n",
              "    }\n",
              "\n",
              "    .colab-df-convert {\n",
              "      background-color: #E8F0FE;\n",
              "      border: none;\n",
              "      border-radius: 50%;\n",
              "      cursor: pointer;\n",
              "      display: none;\n",
              "      fill: #1967D2;\n",
              "      height: 32px;\n",
              "      padding: 0 0 0 0;\n",
              "      width: 32px;\n",
              "    }\n",
              "\n",
              "    .colab-df-convert:hover {\n",
              "      background-color: #E2EBFA;\n",
              "      box-shadow: 0px 1px 2px rgba(60, 64, 67, 0.3), 0px 1px 3px 1px rgba(60, 64, 67, 0.15);\n",
              "      fill: #174EA6;\n",
              "    }\n",
              "\n",
              "    .colab-df-buttons div {\n",
              "      margin-bottom: 4px;\n",
              "    }\n",
              "\n",
              "    [theme=dark] .colab-df-convert {\n",
              "      background-color: #3B4455;\n",
              "      fill: #D2E3FC;\n",
              "    }\n",
              "\n",
              "    [theme=dark] .colab-df-convert:hover {\n",
              "      background-color: #434B5C;\n",
              "      box-shadow: 0px 1px 3px 1px rgba(0, 0, 0, 0.15);\n",
              "      filter: drop-shadow(0px 1px 2px rgba(0, 0, 0, 0.3));\n",
              "      fill: #FFFFFF;\n",
              "    }\n",
              "  </style>\n",
              "\n",
              "    <script>\n",
              "      const buttonEl =\n",
              "        document.querySelector('#df-cea07495-5689-4a60-9ea1-ff1883de112f button.colab-df-convert');\n",
              "      buttonEl.style.display =\n",
              "        google.colab.kernel.accessAllowed ? 'block' : 'none';\n",
              "\n",
              "      async function convertToInteractive(key) {\n",
              "        const element = document.querySelector('#df-cea07495-5689-4a60-9ea1-ff1883de112f');\n",
              "        const dataTable =\n",
              "          await google.colab.kernel.invokeFunction('convertToInteractive',\n",
              "                                                    [key], {});\n",
              "        if (!dataTable) return;\n",
              "\n",
              "        const docLinkHtml = 'Like what you see? Visit the ' +\n",
              "          '<a target=\"_blank\" href=https://colab.research.google.com/notebooks/data_table.ipynb>data table notebook</a>'\n",
              "          + ' to learn more about interactive tables.';\n",
              "        element.innerHTML = '';\n",
              "        dataTable['output_type'] = 'display_data';\n",
              "        await google.colab.output.renderOutput(dataTable, element);\n",
              "        const docLink = document.createElement('div');\n",
              "        docLink.innerHTML = docLinkHtml;\n",
              "        element.appendChild(docLink);\n",
              "      }\n",
              "    </script>\n",
              "  </div>\n",
              "\n",
              "\n",
              "    <div id=\"df-e83d0293-539c-40df-b74f-86a19686abdf\">\n",
              "      <button class=\"colab-df-quickchart\" onclick=\"quickchart('df-e83d0293-539c-40df-b74f-86a19686abdf')\"\n",
              "                title=\"Suggest charts\"\n",
              "                style=\"display:none;\">\n",
              "\n",
              "<svg xmlns=\"http://www.w3.org/2000/svg\" height=\"24px\"viewBox=\"0 0 24 24\"\n",
              "     width=\"24px\">\n",
              "    <g>\n",
              "        <path d=\"M19 3H5c-1.1 0-2 .9-2 2v14c0 1.1.9 2 2 2h14c1.1 0 2-.9 2-2V5c0-1.1-.9-2-2-2zM9 17H7v-7h2v7zm4 0h-2V7h2v10zm4 0h-2v-4h2v4z\"/>\n",
              "    </g>\n",
              "</svg>\n",
              "      </button>\n",
              "\n",
              "<style>\n",
              "  .colab-df-quickchart {\n",
              "      --bg-color: #E8F0FE;\n",
              "      --fill-color: #1967D2;\n",
              "      --hover-bg-color: #E2EBFA;\n",
              "      --hover-fill-color: #174EA6;\n",
              "      --disabled-fill-color: #AAA;\n",
              "      --disabled-bg-color: #DDD;\n",
              "  }\n",
              "\n",
              "  [theme=dark] .colab-df-quickchart {\n",
              "      --bg-color: #3B4455;\n",
              "      --fill-color: #D2E3FC;\n",
              "      --hover-bg-color: #434B5C;\n",
              "      --hover-fill-color: #FFFFFF;\n",
              "      --disabled-bg-color: #3B4455;\n",
              "      --disabled-fill-color: #666;\n",
              "  }\n",
              "\n",
              "  .colab-df-quickchart {\n",
              "    background-color: var(--bg-color);\n",
              "    border: none;\n",
              "    border-radius: 50%;\n",
              "    cursor: pointer;\n",
              "    display: none;\n",
              "    fill: var(--fill-color);\n",
              "    height: 32px;\n",
              "    padding: 0;\n",
              "    width: 32px;\n",
              "  }\n",
              "\n",
              "  .colab-df-quickchart:hover {\n",
              "    background-color: var(--hover-bg-color);\n",
              "    box-shadow: 0 1px 2px rgba(60, 64, 67, 0.3), 0 1px 3px 1px rgba(60, 64, 67, 0.15);\n",
              "    fill: var(--button-hover-fill-color);\n",
              "  }\n",
              "\n",
              "  .colab-df-quickchart-complete:disabled,\n",
              "  .colab-df-quickchart-complete:disabled:hover {\n",
              "    background-color: var(--disabled-bg-color);\n",
              "    fill: var(--disabled-fill-color);\n",
              "    box-shadow: none;\n",
              "  }\n",
              "\n",
              "  .colab-df-spinner {\n",
              "    border: 2px solid var(--fill-color);\n",
              "    border-color: transparent;\n",
              "    border-bottom-color: var(--fill-color);\n",
              "    animation:\n",
              "      spin 1s steps(1) infinite;\n",
              "  }\n",
              "\n",
              "  @keyframes spin {\n",
              "    0% {\n",
              "      border-color: transparent;\n",
              "      border-bottom-color: var(--fill-color);\n",
              "      border-left-color: var(--fill-color);\n",
              "    }\n",
              "    20% {\n",
              "      border-color: transparent;\n",
              "      border-left-color: var(--fill-color);\n",
              "      border-top-color: var(--fill-color);\n",
              "    }\n",
              "    30% {\n",
              "      border-color: transparent;\n",
              "      border-left-color: var(--fill-color);\n",
              "      border-top-color: var(--fill-color);\n",
              "      border-right-color: var(--fill-color);\n",
              "    }\n",
              "    40% {\n",
              "      border-color: transparent;\n",
              "      border-right-color: var(--fill-color);\n",
              "      border-top-color: var(--fill-color);\n",
              "    }\n",
              "    60% {\n",
              "      border-color: transparent;\n",
              "      border-right-color: var(--fill-color);\n",
              "    }\n",
              "    80% {\n",
              "      border-color: transparent;\n",
              "      border-right-color: var(--fill-color);\n",
              "      border-bottom-color: var(--fill-color);\n",
              "    }\n",
              "    90% {\n",
              "      border-color: transparent;\n",
              "      border-bottom-color: var(--fill-color);\n",
              "    }\n",
              "  }\n",
              "</style>\n",
              "\n",
              "      <script>\n",
              "        async function quickchart(key) {\n",
              "          const quickchartButtonEl =\n",
              "            document.querySelector('#' + key + ' button');\n",
              "          quickchartButtonEl.disabled = true;  // To prevent multiple clicks.\n",
              "          quickchartButtonEl.classList.add('colab-df-spinner');\n",
              "          try {\n",
              "            const charts = await google.colab.kernel.invokeFunction(\n",
              "                'suggestCharts', [key], {});\n",
              "          } catch (error) {\n",
              "            console.error('Error during call to suggestCharts:', error);\n",
              "          }\n",
              "          quickchartButtonEl.classList.remove('colab-df-spinner');\n",
              "          quickchartButtonEl.classList.add('colab-df-quickchart-complete');\n",
              "        }\n",
              "        (() => {\n",
              "          let quickchartButtonEl =\n",
              "            document.querySelector('#df-e83d0293-539c-40df-b74f-86a19686abdf button');\n",
              "          quickchartButtonEl.style.display =\n",
              "            google.colab.kernel.accessAllowed ? 'block' : 'none';\n",
              "        })();\n",
              "      </script>\n",
              "    </div>\n",
              "\n",
              "    </div>\n",
              "  </div>\n"
            ],
            "application/vnd.google.colaboratory.intrinsic+json": {
              "type": "dataframe",
              "summary": "{\n  \"name\": \"df\",\n  \"rows\": 8,\n  \"fields\": [\n    {\n      \"column\": \"User_ID\",\n      \"properties\": {\n        \"dtype\": \"number\",\n        \"std\": 367117.89753373514,\n        \"min\": 1727.5915855306216,\n        \"max\": 1006040.0,\n        \"num_unique_values\": 8,\n        \"samples\": [\n          1003028.8424013031,\n          1003077.0,\n          550068.0\n        ],\n        \"semantic_type\": \"\",\n        \"description\": \"\"\n      }\n    },\n    {\n      \"column\": \"Occupation\",\n      \"properties\": {\n        \"dtype\": \"number\",\n        \"std\": 194475.49735336297,\n        \"min\": 0.0,\n        \"max\": 550068.0,\n        \"num_unique_values\": 8,\n        \"samples\": [\n          8.076706879876669,\n          7.0,\n          550068.0\n        ],\n        \"semantic_type\": \"\",\n        \"description\": \"\"\n      }\n    },\n    {\n      \"column\": \"Marital_Status\",\n      \"properties\": {\n        \"dtype\": \"number\",\n        \"std\": 194478.25991330712,\n        \"min\": 0.0,\n        \"max\": 550068.0,\n        \"num_unique_values\": 5,\n        \"samples\": [\n          0.40965298835780306,\n          1.0,\n          0.4917701263166973\n        ],\n        \"semantic_type\": \"\",\n        \"description\": \"\"\n      }\n    },\n    {\n      \"column\": \"Product_Category\",\n      \"properties\": {\n        \"dtype\": \"number\",\n        \"std\": 194476.16701795225,\n        \"min\": 1.0,\n        \"max\": 550068.0,\n        \"num_unique_values\": 7,\n        \"samples\": [\n          550068.0,\n          5.404270017525106,\n          8.0\n        ],\n        \"semantic_type\": \"\",\n        \"description\": \"\"\n      }\n    },\n    {\n      \"column\": \"Purchase\",\n      \"properties\": {\n        \"dtype\": \"number\",\n        \"std\": 191363.80903912007,\n        \"min\": 12.0,\n        \"max\": 550068.0,\n        \"num_unique_values\": 8,\n        \"samples\": [\n          9263.968712959126,\n          8047.0,\n          550068.0\n        ],\n        \"semantic_type\": \"\",\n        \"description\": \"\"\n      }\n    }\n  ]\n}"
            }
          },
          "metadata": {},
          "execution_count": 5
        }
      ]
    },
    {
      "cell_type": "code",
      "source": [
        "# Column wise - count of unique values\n",
        "for i in df.columns:\n",
        "  print(f\"{i} :\" , df[i].nunique())"
      ],
      "metadata": {
        "colab": {
          "base_uri": "https://localhost:8080/"
        },
        "id": "Vk6dthr-gBS2",
        "outputId": "31c7c882-e04c-4e19-d84a-4ef84c950092"
      },
      "execution_count": 6,
      "outputs": [
        {
          "output_type": "stream",
          "name": "stdout",
          "text": [
            "User_ID : 5891\n",
            "Product_ID : 3631\n",
            "Gender : 2\n",
            "Age : 7\n",
            "Occupation : 21\n",
            "City_Category : 3\n",
            "Stay_In_Current_City_Years : 5\n",
            "Marital_Status : 2\n",
            "Product_Category : 20\n",
            "Purchase : 18105\n"
          ]
        }
      ]
    },
    {
      "cell_type": "markdown",
      "source": [
        "## Insight on Data:\n",
        "  * We have 10 columns and 550068 rows in the data set\n",
        "  * Numerical Data : Purchase\n",
        "  * Categorical Data : User ID, Product_ID, Gender, Age, Occupation, City_Category, Stay_In_Current_City_Years, Marital_Status, and Product category"
      ],
      "metadata": {
        "id": "zHetA3JwhqYV"
      }
    },
    {
      "cell_type": "code",
      "source": [
        "##################################################################################################################################################################################################################"
      ],
      "metadata": {
        "id": "4tQjBkBGhpRO"
      },
      "execution_count": 7,
      "outputs": []
    },
    {
      "cell_type": "code",
      "source": [
        "##################################################################################################################################################################################################################"
      ],
      "metadata": {
        "id": "0phoJnBlzXhM"
      },
      "execution_count": 8,
      "outputs": []
    },
    {
      "cell_type": "markdown",
      "source": [
        "# Missing Value & Outlier Detection"
      ],
      "metadata": {
        "id": "mzK3kqK9THkj"
      }
    },
    {
      "cell_type": "code",
      "source": [
        "#Counting Missing Values for each column\n",
        "df.isnull().sum()"
      ],
      "metadata": {
        "colab": {
          "base_uri": "https://localhost:8080/",
          "height": 398
        },
        "id": "ezowLimyTJqK",
        "outputId": "6a677668-9996-4714-d97e-f62b388c9311"
      },
      "execution_count": 9,
      "outputs": [
        {
          "output_type": "execute_result",
          "data": {
            "text/plain": [
              "User_ID                       0\n",
              "Product_ID                    0\n",
              "Gender                        0\n",
              "Age                           0\n",
              "Occupation                    0\n",
              "City_Category                 0\n",
              "Stay_In_Current_City_Years    0\n",
              "Marital_Status                0\n",
              "Product_Category              0\n",
              "Purchase                      0\n",
              "dtype: int64"
            ],
            "text/html": [
              "<div>\n",
              "<style scoped>\n",
              "    .dataframe tbody tr th:only-of-type {\n",
              "        vertical-align: middle;\n",
              "    }\n",
              "\n",
              "    .dataframe tbody tr th {\n",
              "        vertical-align: top;\n",
              "    }\n",
              "\n",
              "    .dataframe thead th {\n",
              "        text-align: right;\n",
              "    }\n",
              "</style>\n",
              "<table border=\"1\" class=\"dataframe\">\n",
              "  <thead>\n",
              "    <tr style=\"text-align: right;\">\n",
              "      <th></th>\n",
              "      <th>0</th>\n",
              "    </tr>\n",
              "  </thead>\n",
              "  <tbody>\n",
              "    <tr>\n",
              "      <th>User_ID</th>\n",
              "      <td>0</td>\n",
              "    </tr>\n",
              "    <tr>\n",
              "      <th>Product_ID</th>\n",
              "      <td>0</td>\n",
              "    </tr>\n",
              "    <tr>\n",
              "      <th>Gender</th>\n",
              "      <td>0</td>\n",
              "    </tr>\n",
              "    <tr>\n",
              "      <th>Age</th>\n",
              "      <td>0</td>\n",
              "    </tr>\n",
              "    <tr>\n",
              "      <th>Occupation</th>\n",
              "      <td>0</td>\n",
              "    </tr>\n",
              "    <tr>\n",
              "      <th>City_Category</th>\n",
              "      <td>0</td>\n",
              "    </tr>\n",
              "    <tr>\n",
              "      <th>Stay_In_Current_City_Years</th>\n",
              "      <td>0</td>\n",
              "    </tr>\n",
              "    <tr>\n",
              "      <th>Marital_Status</th>\n",
              "      <td>0</td>\n",
              "    </tr>\n",
              "    <tr>\n",
              "      <th>Product_Category</th>\n",
              "      <td>0</td>\n",
              "    </tr>\n",
              "    <tr>\n",
              "      <th>Purchase</th>\n",
              "      <td>0</td>\n",
              "    </tr>\n",
              "  </tbody>\n",
              "</table>\n",
              "</div><br><label><b>dtype:</b> int64</label>"
            ]
          },
          "metadata": {},
          "execution_count": 9
        }
      ]
    },
    {
      "cell_type": "markdown",
      "source": [
        " - No missing value / null value in the data set"
      ],
      "metadata": {
        "id": "YyuzDZ3FuUtH"
      }
    },
    {
      "cell_type": "code",
      "source": [
        "#Detecting Outliers - Using Box Plot\n",
        "plt.figure()\n",
        "\n",
        "plt.subplot(2,3,1)\n",
        "sns.boxplot(data = df, y = 'Purchase')\n",
        "\n",
        "plt.subplot(2,3,3)\n",
        "sns.boxplot(data = df, y = 'Purchase', x = 'Gender')\n",
        "\n",
        "plt.subplot(2,3,4)\n",
        "sns.boxplot(data = df, y = 'Purchase', x = 'Marital_Status')\n",
        "\n",
        "plt.subplot(2,3,6)\n",
        "sns.boxplot(data = df, y = 'Purchase', x = 'City_Category')\n",
        "\n"
      ],
      "metadata": {
        "colab": {
          "base_uri": "https://localhost:8080/",
          "height": 472
        },
        "id": "5QHfUrD8TO6j",
        "outputId": "ec9a3f63-e091-4129-ba72-022789b8da6d"
      },
      "execution_count": 10,
      "outputs": [
        {
          "output_type": "execute_result",
          "data": {
            "text/plain": [
              "<Axes: xlabel='City_Category', ylabel='Purchase'>"
            ]
          },
          "metadata": {},
          "execution_count": 10
        },
        {
          "output_type": "display_data",
          "data": {
            "text/plain": [
              "<Figure size 640x480 with 4 Axes>"
            ],
            "image/png": "[encoded data removed]"
          },
          "metadata": {}
        }
      ]
    },
    {
      "cell_type": "code",
      "source": [
        "#Detecting Outliers - Using Z-Score\n",
        "mu = df['Purchase'].mean()\n",
        "sigma = df['Purchase'].std()\n",
        "df['z_score'] = (df['Purchase'] - mu)/sigma\n",
        "df.head()\n",
        "\n",
        "lower_threshold = mu - 3*sigma\n",
        "upper_threshold = mu + 3*sigma\n",
        "print(f\"Lower Threshold : {lower_threshold}\")\n",
        "print(f\"Upper Threshold : {upper_threshold}\")"
      ],
      "metadata": {
        "colab": {
          "base_uri": "https://localhost:8080/"
        },
        "id": "Ac3FP1U5TQZz",
        "outputId": "213953ef-4f53-48cd-9978-a11cb3c18b9d"
      },
      "execution_count": 11,
      "outputs": [
        {
          "output_type": "stream",
          "name": "stdout",
          "text": [
            "Lower Threshold : -5805.227468502755\n",
            "Upper Threshold : 24333.164894421006\n"
          ]
        }
      ]
    },
    {
      "cell_type": "markdown",
      "source": [
        "# Summary : Insights from Missing Value and Outlier Perspective\n",
        "\n",
        "- No missing value / null value in the data set\n",
        "- Any purchase above $24333.16 is an Outlier"
      ],
      "metadata": {
        "id": "wK51S5jyufHH"
      }
    },
    {
      "cell_type": "code",
      "source": [
        "##################################################################################################################################################################################################################"
      ],
      "metadata": {
        "id": "z_jmhufPzZ_M"
      },
      "execution_count": 12,
      "outputs": []
    },
    {
      "cell_type": "code",
      "source": [
        "##################################################################################################################################################################################################################"
      ],
      "metadata": {
        "id": "duK6N_qIzafs"
      },
      "execution_count": 13,
      "outputs": []
    },
    {
      "cell_type": "markdown",
      "source": [
        "# Business Insights based on Non - Graphical and Visual Analysis\n",
        "  * Comments on the range of attributes\n",
        "  * Comments on the distribution of the variables and relationship between them\n",
        "  * Comments for each univariate and bivariate plot\n"
      ],
      "metadata": {
        "id": "YlwgZFOdTRCL"
      }
    },
    {
      "cell_type": "code",
      "source": [
        "#Count purchases by Gender - Countplot\n",
        "\n",
        "plt.figure()\n",
        "sns.countplot(data = df, x = 'Gender', hue = 'Gender')\n",
        "plt.title('Count of Purchases by Gender')"
      ],
      "metadata": {
        "colab": {
          "base_uri": "https://localhost:8080/",
          "height": 490
        },
        "id": "SvLmBm1K64Na",
        "outputId": "e527cb29-016a-4123-deb7-54d64644151b"
      },
      "execution_count": 14,
      "outputs": [
        {
          "output_type": "execute_result",
          "data": {
            "text/plain": [
              "Text(0.5, 1.0, 'Count of Purchases by Gender')"
            ]
          },
          "metadata": {},
          "execution_count": 14
        },
        {
          "output_type": "display_data",
          "data": {
            "text/plain": [
              "<Figure size 640x480 with 1 Axes>"
            ],
            "image/png": "[encoded data removed]"
          },
          "metadata": {}
        }
      ]
    },
    {
      "cell_type": "code",
      "source": [
        "df['Gender'].value_counts(normalize = True)"
      ],
      "metadata": {
        "colab": {
          "base_uri": "https://localhost:8080/",
          "height": 178
        },
        "id": "N39xEa5b73cx",
        "outputId": "bcd18516-52f5-4d96-8277-5a4297d50ef7"
      },
      "execution_count": 15,
      "outputs": [
        {
          "output_type": "execute_result",
          "data": {
            "text/plain": [
              "Gender\n",
              "M    0.753105\n",
              "F    0.246895\n",
              "Name: proportion, dtype: float64"
            ],
            "text/html": [
              "<div>\n",
              "<style scoped>\n",
              "    .dataframe tbody tr th:only-of-type {\n",
              "        vertical-align: middle;\n",
              "    }\n",
              "\n",
              "    .dataframe tbody tr th {\n",
              "        vertical-align: top;\n",
              "    }\n",
              "\n",
              "    .dataframe thead th {\n",
              "        text-align: right;\n",
              "    }\n",
              "</style>\n",
              "<table border=\"1\" class=\"dataframe\">\n",
              "  <thead>\n",
              "    <tr style=\"text-align: right;\">\n",
              "      <th></th>\n",
              "      <th>proportion</th>\n",
              "    </tr>\n",
              "    <tr>\n",
              "      <th>Gender</th>\n",
              "      <th></th>\n",
              "    </tr>\n",
              "  </thead>\n",
              "  <tbody>\n",
              "    <tr>\n",
              "      <th>M</th>\n",
              "      <td>0.753105</td>\n",
              "    </tr>\n",
              "    <tr>\n",
              "      <th>F</th>\n",
              "      <td>0.246895</td>\n",
              "    </tr>\n",
              "  </tbody>\n",
              "</table>\n",
              "</div><br><label><b>dtype:</b> float64</label>"
            ]
          },
          "metadata": {},
          "execution_count": 15
        }
      ]
    },
    {
      "cell_type": "markdown",
      "source": [
        " - Count of purchase by male (Count : 414259) is much higher than count of purchases made by female (Count : 135809) i.e. 75.31% are transactions are made by male and 24.69% transactions made by female"
      ],
      "metadata": {
        "id": "8JqGkrX_9Aaz"
      }
    },
    {
      "cell_type": "code",
      "source": [
        "# Calculate total purchase by gender\n",
        "plt.figure()\n",
        "\n",
        "plt.subplot(3,3,1)\n",
        "gender_total_purchase = df.groupby('Gender')['Purchase'].sum().reset_index()\n",
        "print(gender_total_purchase)\n",
        "sns.barplot(data = gender_total_purchase, y = 'Purchase',x = 'Gender')\n",
        "plt.title('Total Purchase by Gender')\n",
        "\n",
        "plt.subplot(3,3,3)\n",
        "gender_total_purchase = df.groupby('Gender')['Purchase'].mean().reset_index()\n",
        "print(gender_total_purchase)\n",
        "sns.barplot(data = gender_total_purchase, y = 'Purchase',x = 'Gender')\n",
        "plt.title('Mean Purchase by Gender')\n",
        "\n",
        "plt.subplot(3,3,8)\n",
        "gender_total_purchase = df.groupby('Gender')['Purchase'].median().reset_index()\n",
        "print(gender_total_purchase)\n",
        "sns.barplot(data = gender_total_purchase, y = 'Purchase',x = 'Gender')\n",
        "plt.title('Median Purchase by Gender')"
      ],
      "metadata": {
        "colab": {
          "base_uri": "https://localhost:8080/",
          "height": 672
        },
        "id": "bKyjhjAWTajD",
        "outputId": "1f0c78ed-993d-4d7e-b67f-efe71ba0df28"
      },
      "execution_count": 16,
      "outputs": [
        {
          "output_type": "stream",
          "name": "stdout",
          "text": [
            "  Gender    Purchase\n",
            "0      F  1186232642\n",
            "1      M  3909580100\n",
            "  Gender     Purchase\n",
            "0      F  8734.565765\n",
            "1      M  9437.526040\n",
            "  Gender  Purchase\n",
            "0      F    7914.0\n",
            "1      M    8098.0\n"
          ]
        },
        {
          "output_type": "execute_result",
          "data": {
            "text/plain": [
              "Text(0.5, 1.0, 'Median Purchase by Gender')"
            ]
          },
          "metadata": {},
          "execution_count": 16
        },
        {
          "output_type": "display_data",
          "data": {
            "text/plain": [
              "<Figure size 640x480 with 3 Axes>"
            ],
            "image/png": "[encoded data removed]"
          },
          "metadata": {}
        }
      ]
    },
    {
      "cell_type": "markdown",
      "source": [
        " - Total purchases by male (Total : USD 3909580100) is much higher than total purchase made by female (USD 1186232642). Similar ratio as transaction count persists from Total Purchase perspective\n",
        "\n",
        " - Mean Purchase amount for Male is  9437.53 and for Female it's 8734.57. Mean is impacted by Outliers.\n",
        "\n",
        " - Median pruchase amount for male is 8098 and for female it's 7914. Here the purchase differnce shrinks as Males have more / higher value outliers than Female buyers.\n",
        "\n",
        " - Males have higher Total, Mean and Meadian purchases with respect to Females\n"
      ],
      "metadata": {
        "id": "UWdoI4q56dNj"
      }
    },
    {
      "cell_type": "code",
      "source": [
        "plt.figure()\n",
        "plt.suptitle('Purchase by Marital Status and Gender')\n",
        "\n",
        "plt.subplot(1,3,1)\n",
        "# Calculate mean purchase by marital status and gender\n",
        "marital_gender_total_purchase = df.groupby(['Marital_Status', 'Gender'])['Purchase'].mean().reset_index()\n",
        "print(marital_gender_total_purchase)\n",
        "sns.barplot(data = marital_gender_total_purchase, y = 'Purchase',x = 'Marital_Status',hue='Gender')\n",
        "plt.title(\"Mean\")\n",
        "plt.legend(loc='lower right')\n",
        "\n",
        "plt.subplot(1,3,3)\n",
        "# Calculate mean purchase by marital status and gender\n",
        "marital_gender_total_purchase = df.groupby(['Marital_Status', 'Gender'])['Purchase'].median().reset_index()\n",
        "print(marital_gender_total_purchase)\n",
        "sns.barplot(data = marital_gender_total_purchase, y = 'Purchase',x = 'Marital_Status',hue='Gender')\n",
        "plt.title('Median')\n",
        "plt.legend(loc='lower right')"
      ],
      "metadata": {
        "colab": {
          "base_uri": "https://localhost:8080/",
          "height": 701
        },
        "id": "qw-4UdetTsm1",
        "outputId": "f042aae1-6d78-4b5f-99c6-a2460f5075d0"
      },
      "execution_count": 17,
      "outputs": [
        {
          "output_type": "stream",
          "name": "stdout",
          "text": [
            "   Marital_Status Gender     Purchase\n",
            "0               0      F  8679.845815\n",
            "1               0      M  9453.756740\n",
            "2               1      F  8810.249789\n",
            "3               1      M  9413.817605\n",
            "   Marital_Status Gender  Purchase\n",
            "0               0      F    7895.0\n",
            "1               0      M    8101.0\n",
            "2               1      F    7939.0\n",
            "3               1      M    8094.0\n"
          ]
        },
        {
          "output_type": "execute_result",
          "data": {
            "text/plain": [
              "<matplotlib.legend.Legend at 0x7c4e49b93e90>"
            ]
          },
          "metadata": {},
          "execution_count": 17
        },
        {
          "output_type": "display_data",
          "data": {
            "text/plain": [
              "<Figure size 640x480 with 2 Axes>"
            ],
            "image/png": "[encoded data removed]"
          },
          "metadata": {}
        }
      ]
    },
    {
      "cell_type": "markdown",
      "source": [
        "- Regardless of Marital_Status, Mean and Median purchase amount per transaction for Male is higher than that of female"
      ],
      "metadata": {
        "id": "cC6x_iGcG0Lk"
      }
    },
    {
      "cell_type": "code",
      "source": [
        "plt.figure()\n",
        "plt.suptitle('Purchase by Gender and City Category')\n",
        "\n",
        "plt.subplot(1,3,1)\n",
        "# Calculate mean purchase by gender and city category\n",
        "gender_city_total_purchase = df.groupby(['Gender', 'City_Category'])['Purchase'].mean().reset_index()\n",
        "print(gender_city_total_purchase)\n",
        "sns.barplot(data = gender_city_total_purchase, y = 'Purchase',x = 'City_Category', hue='Gender')\n",
        "plt.title('Mean')\n",
        "plt.legend(loc='lower right')\n",
        "\n",
        "plt.subplot(1,3,3)\n",
        "# Calculate mean purchase by gender and city category\n",
        "gender_city_total_purchase = df.groupby(['Gender', 'City_Category'])['Purchase'].mean().reset_index()\n",
        "print(gender_city_total_purchase)\n",
        "sns.barplot(data = gender_city_total_purchase, y = 'Purchase',x = 'City_Category', hue='Gender')\n",
        "plt.title('Median')\n",
        "plt.legend(loc='lower right')"
      ],
      "metadata": {
        "colab": {
          "base_uri": "https://localhost:8080/",
          "height": 775
        },
        "id": "JU4Eti0D0VCo",
        "outputId": "54cffe16-5f40-4465-961e-cd2c321eab72"
      },
      "execution_count": 18,
      "outputs": [
        {
          "output_type": "stream",
          "name": "stdout",
          "text": [
            "  Gender City_Category     Purchase\n",
            "0      F             A  8579.708576\n",
            "1      F             B  8540.677694\n",
            "2      F             C  9130.107518\n",
            "3      M             A  9017.834470\n",
            "4      M             B  9354.854433\n",
            "5      M             C  9913.567248\n",
            "  Gender City_Category     Purchase\n",
            "0      F             A  8579.708576\n",
            "1      F             B  8540.677694\n",
            "2      F             C  9130.107518\n",
            "3      M             A  9017.834470\n",
            "4      M             B  9354.854433\n",
            "5      M             C  9913.567248\n"
          ]
        },
        {
          "output_type": "execute_result",
          "data": {
            "text/plain": [
              "<matplotlib.legend.Legend at 0x7c4e4cb01dc0>"
            ]
          },
          "metadata": {},
          "execution_count": 18
        },
        {
          "output_type": "display_data",
          "data": {
            "text/plain": [
              "<Figure size 640x480 with 2 Axes>"
            ],
            "image/png": "[encoded data removed]"
          },
          "metadata": {}
        }
      ]
    },
    {
      "cell_type": "markdown",
      "source": [
        " - Regardless of City_Category, Mean and Median purchase amount per transaction for Male is higher than that of female"
      ],
      "metadata": {
        "id": "mIhDMSujBwRy"
      }
    },
    {
      "cell_type": "code",
      "source": [
        "df['Age'].unique()"
      ],
      "metadata": {
        "colab": {
          "base_uri": "https://localhost:8080/"
        },
        "id": "HZtPFeFYTTjm",
        "outputId": "5d93213a-ce14-45db-c228-ba472dea8b2d"
      },
      "execution_count": 19,
      "outputs": [
        {
          "output_type": "execute_result",
          "data": {
            "text/plain": [
              "array(['0-17', '55+', '26-35', '46-50', '51-55', '36-45', '18-25'],\n",
              "      dtype=object)"
            ]
          },
          "metadata": {},
          "execution_count": 19
        }
      ]
    },
    {
      "cell_type": "code",
      "source": [
        "# Replacing categorical values with number to apply correlation\n",
        "df1 = df.copy()\n",
        "df1['Gender'] = df1['Gender'].replace(['F','M'],[0,1])\n",
        "df1['Marital_Status'] = df1['Marital_Status'].replace(['No','Yes'],[0,1])\n",
        "df1['City_Category'] = df1['City_Category'].replace(['A','B','C'],[0,1,2])\n",
        "df1['Age'] = df1['Age'].replace(['0-17','18-25','26-35','36-45','46-50','51-55','55+'],[1,2,3,4,5,6,7])\n",
        "df1.head()"
      ],
      "metadata": {
        "colab": {
          "base_uri": "https://localhost:8080/",
          "height": 337
        },
        "id": "sSduJVhUD3UE",
        "outputId": "65922584-3faa-409a-c89a-b1e8e498cf66"
      },
      "execution_count": 20,
      "outputs": [
        {
          "output_type": "stream",
          "name": "stderr",
          "text": [
            "/tmp/ipython-input-2939058120.py:3: FutureWarning: Downcasting behavior in `replace` is deprecated and will be removed in a future version. To retain the old behavior, explicitly call `result.infer_objects(copy=False)`. To opt-in to the future behavior, set `pd.set_option('future.no_silent_downcasting', True)`\n",
            "  df1['Gender'] = df1['Gender'].replace(['F','M'],[0,1])\n",
            "/tmp/ipython-input-2939058120.py:5: FutureWarning: Downcasting behavior in `replace` is deprecated and will be removed in a future version. To retain the old behavior, explicitly call `result.infer_objects(copy=False)`. To opt-in to the future behavior, set `pd.set_option('future.no_silent_downcasting', True)`\n",
            "  df1['City_Category'] = df1['City_Category'].replace(['A','B','C'],[0,1,2])\n",
            "/tmp/ipython-input-2939058120.py:6: FutureWarning: Downcasting behavior in `replace` is deprecated and will be removed in a future version. To retain the old behavior, explicitly call `result.infer_objects(copy=False)`. To opt-in to the future behavior, set `pd.set_option('future.no_silent_downcasting', True)`\n",
            "  df1['Age'] = df1['Age'].replace(['0-17','18-25','26-35','36-45','46-50','51-55','55+'],[1,2,3,4,5,6,7])\n"
          ]
        },
        {
          "output_type": "execute_result",
          "data": {
            "text/plain": [
              "   User_ID Product_ID  Gender  Age  Occupation  City_Category  \\\n",
              "0  1000001  P00069042       0    1          10              0   \n",
              "1  1000001  P00248942       0    1          10              0   \n",
              "2  1000001  P00087842       0    1          10              0   \n",
              "3  1000001  P00085442       0    1          10              0   \n",
              "4  1000002  P00285442       1    7          16              2   \n",
              "\n",
              "  Stay_In_Current_City_Years  Marital_Status  Product_Category  Purchase  \\\n",
              "0                          2               0                 3      8370   \n",
              "1                          2               0                 1     15200   \n",
              "2                          2               0                12      1422   \n",
              "3                          2               0                12      1057   \n",
              "4                         4+               0                 8      7969   \n",
              "\n",
              "    z_score  \n",
              "0 -0.177973  \n",
              "1  1.181755  \n",
              "2 -1.561192  \n",
              "3 -1.633857  \n",
              "4 -0.257804  "
            ],
            "text/html": [
              "\n",
              "  <div id=\"df-7685cfdc-e6c2-4f2f-a0e8-1eab998c5f87\" class=\"colab-df-container\">\n",
              "    <div>\n",
              "<style scoped>\n",
              "    .dataframe tbody tr th:only-of-type {\n",
              "        vertical-align: middle;\n",
              "    }\n",
              "\n",
              "    .dataframe tbody tr th {\n",
              "        vertical-align: top;\n",
              "    }\n",
              "\n",
              "    .dataframe thead th {\n",
              "        text-align: right;\n",
              "    }\n",
              "</style>\n",
              "<table border=\"1\" class=\"dataframe\">\n",
              "  <thead>\n",
              "    <tr style=\"text-align: right;\">\n",
              "      <th></th>\n",
              "      <th>User_ID</th>\n",
              "      <th>Product_ID</th>\n",
              "      <th>Gender</th>\n",
              "      <th>Age</th>\n",
              "      <th>Occupation</th>\n",
              "      <th>City_Category</th>\n",
              "      <th>Stay_In_Current_City_Years</th>\n",
              "      <th>Marital_Status</th>\n",
              "      <th>Product_Category</th>\n",
              "      <th>Purchase</th>\n",
              "      <th>z_score</th>\n",
              "    </tr>\n",
              "  </thead>\n",
              "  <tbody>\n",
              "    <tr>\n",
              "      <th>0</th>\n",
              "      <td>1000001</td>\n",
              "      <td>P00069042</td>\n",
              "      <td>0</td>\n",
              "      <td>1</td>\n",
              "      <td>10</td>\n",
              "      <td>0</td>\n",
              "      <td>2</td>\n",
              "      <td>0</td>\n",
              "      <td>3</td>\n",
              "      <td>8370</td>\n",
              "      <td>-0.177973</td>\n",
              "    </tr>\n",
              "    <tr>\n",
              "      <th>1</th>\n",
              "      <td>1000001</td>\n",
              "      <td>P00248942</td>\n",
              "      <td>0</td>\n",
              "      <td>1</td>\n",
              "      <td>10</td>\n",
              "      <td>0</td>\n",
              "      <td>2</td>\n",
              "      <td>0</td>\n",
              "      <td>1</td>\n",
              "      <td>15200</td>\n",
              "      <td>1.181755</td>\n",
              "    </tr>\n",
              "    <tr>\n",
              "      <th>2</th>\n",
              "      <td>1000001</td>\n",
              "      <td>P00087842</td>\n",
              "      <td>0</td>\n",
              "      <td>1</td>\n",
              "      <td>10</td>\n",
              "      <td>0</td>\n",
              "      <td>2</td>\n",
              "      <td>0</td>\n",
              "      <td>12</td>\n",
              "      <td>1422</td>\n",
              "      <td>-1.561192</td>\n",
              "    </tr>\n",
              "    <tr>\n",
              "      <th>3</th>\n",
              "      <td>1000001</td>\n",
              "      <td>P00085442</td>\n",
              "      <td>0</td>\n",
              "      <td>1</td>\n",
              "      <td>10</td>\n",
              "      <td>0</td>\n",
              "      <td>2</td>\n",
              "      <td>0</td>\n",
              "      <td>12</td>\n",
              "      <td>1057</td>\n",
              "      <td>-1.633857</td>\n",
              "    </tr>\n",
              "    <tr>\n",
              "      <th>4</th>\n",
              "      <td>1000002</td>\n",
              "      <td>P00285442</td>\n",
              "      <td>1</td>\n",
              "      <td>7</td>\n",
              "      <td>16</td>\n",
              "      <td>2</td>\n",
              "      <td>4+</td>\n",
              "      <td>0</td>\n",
              "      <td>8</td>\n",
              "      <td>7969</td>\n",
              "      <td>-0.257804</td>\n",
              "    </tr>\n",
              "  </tbody>\n",
              "</table>\n",
              "</div>\n",
              "    <div class=\"colab-df-buttons\">\n",
              "\n",
              "  <div class=\"colab-df-container\">\n",
              "    <button class=\"colab-df-convert\" onclick=\"convertToInteractive('df-7685cfdc-e6c2-4f2f-a0e8-1eab998c5f87')\"\n",
              "            title=\"Convert this dataframe to an interactive table.\"\n",
              "            style=\"display:none;\">\n",
              "\n",
              "  <svg xmlns=\"http://www.w3.org/2000/svg\" height=\"24px\" viewBox=\"0 -960 960 960\">\n",
              "    <path d=\"M120-120v-720h720v720H120Zm60-500h600v-160H180v160Zm220 220h160v-160H400v160Zm0 220h160v-160H400v160ZM180-400h160v-160H180v160Zm440 0h160v-160H620v160ZM180-180h160v-160H180v160Zm440 0h160v-160H620v160Z\"/>\n",
              "  </svg>\n",
              "    </button>\n",
              "\n",
              "  <style>\n",
              "    .colab-df-container {\n",
              "      display:flex;\n",
              "      gap: 12px;\n",
              "    }\n",
              "\n",
              "    .colab-df-convert {\n",
              "      background-color: #E8F0FE;\n",
              "      border: none;\n",
              "      border-radius: 50%;\n",
              "      cursor: pointer;\n",
              "      display: none;\n",
              "      fill: #1967D2;\n",
              "      height: 32px;\n",
              "      padding: 0 0 0 0;\n",
              "      width: 32px;\n",
              "    }\n",
              "\n",
              "    .colab-df-convert:hover {\n",
              "      background-color: #E2EBFA;\n",
              "      box-shadow: 0px 1px 2px rgba(60, 64, 67, 0.3), 0px 1px 3px 1px rgba(60, 64, 67, 0.15);\n",
              "      fill: #174EA6;\n",
              "    }\n",
              "\n",
              "    .colab-df-buttons div {\n",
              "      margin-bottom: 4px;\n",
              "    }\n",
              "\n",
              "    [theme=dark] .colab-df-convert {\n",
              "      background-color: #3B4455;\n",
              "      fill: #D2E3FC;\n",
              "    }\n",
              "\n",
              "    [theme=dark] .colab-df-convert:hover {\n",
              "      background-color: #434B5C;\n",
              "      box-shadow: 0px 1px 3px 1px rgba(0, 0, 0, 0.15);\n",
              "      filter: drop-shadow(0px 1px 2px rgba(0, 0, 0, 0.3));\n",
              "      fill: #FFFFFF;\n",
              "    }\n",
              "  </style>\n",
              "\n",
              "    <script>\n",
              "      const buttonEl =\n",
              "        document.querySelector('#df-7685cfdc-e6c2-4f2f-a0e8-1eab998c5f87 button.colab-df-convert');\n",
              "      buttonEl.style.display =\n",
              "        google.colab.kernel.accessAllowed ? 'block' : 'none';\n",
              "\n",
              "      async function convertToInteractive(key) {\n",
              "        const element = document.querySelector('#df-7685cfdc-e6c2-4f2f-a0e8-1eab998c5f87');\n",
              "        const dataTable =\n",
              "          await google.colab.kernel.invokeFunction('convertToInteractive',\n",
              "                                                    [key], {});\n",
              "        if (!dataTable) return;\n",
              "\n",
              "        const docLinkHtml = 'Like what you see? Visit the ' +\n",
              "          '<a target=\"_blank\" href=https://colab.research.google.com/notebooks/data_table.ipynb>data table notebook</a>'\n",
              "          + ' to learn more about interactive tables.';\n",
              "        element.innerHTML = '';\n",
              "        dataTable['output_type'] = 'display_data';\n",
              "        await google.colab.output.renderOutput(dataTable, element);\n",
              "        const docLink = document.createElement('div');\n",
              "        docLink.innerHTML = docLinkHtml;\n",
              "        element.appendChild(docLink);\n",
              "      }\n",
              "    </script>\n",
              "  </div>\n",
              "\n",
              "\n",
              "    <div id=\"df-1cafaffb-63c2-4a0c-95fe-38d0749c0bab\">\n",
              "      <button class=\"colab-df-quickchart\" onclick=\"quickchart('df-1cafaffb-63c2-4a0c-95fe-38d0749c0bab')\"\n",
              "                title=\"Suggest charts\"\n",
              "                style=\"display:none;\">\n",
              "\n",
              "<svg xmlns=\"http://www.w3.org/2000/svg\" height=\"24px\"viewBox=\"0 0 24 24\"\n",
              "     width=\"24px\">\n",
              "    <g>\n",
              "        <path d=\"M19 3H5c-1.1 0-2 .9-2 2v14c0 1.1.9 2 2 2h14c1.1 0 2-.9 2-2V5c0-1.1-.9-2-2-2zM9 17H7v-7h2v7zm4 0h-2V7h2v10zm4 0h-2v-4h2v4z\"/>\n",
              "    </g>\n",
              "</svg>\n",
              "      </button>\n",
              "\n",
              "<style>\n",
              "  .colab-df-quickchart {\n",
              "      --bg-color: #E8F0FE;\n",
              "      --fill-color: #1967D2;\n",
              "      --hover-bg-color: #E2EBFA;\n",
              "      --hover-fill-color: #174EA6;\n",
              "      --disabled-fill-color: #AAA;\n",
              "      --disabled-bg-color: #DDD;\n",
              "  }\n",
              "\n",
              "  [theme=dark] .colab-df-quickchart {\n",
              "      --bg-color: #3B4455;\n",
              "      --fill-color: #D2E3FC;\n",
              "      --hover-bg-color: #434B5C;\n",
              "      --hover-fill-color: #FFFFFF;\n",
              "      --disabled-bg-color: #3B4455;\n",
              "      --disabled-fill-color: #666;\n",
              "  }\n",
              "\n",
              "  .colab-df-quickchart {\n",
              "    background-color: var(--bg-color);\n",
              "    border: none;\n",
              "    border-radius: 50%;\n",
              "    cursor: pointer;\n",
              "    display: none;\n",
              "    fill: var(--fill-color);\n",
              "    height: 32px;\n",
              "    padding: 0;\n",
              "    width: 32px;\n",
              "  }\n",
              "\n",
              "  .colab-df-quickchart:hover {\n",
              "    background-color: var(--hover-bg-color);\n",
              "    box-shadow: 0 1px 2px rgba(60, 64, 67, 0.3), 0 1px 3px 1px rgba(60, 64, 67, 0.15);\n",
              "    fill: var(--button-hover-fill-color);\n",
              "  }\n",
              "\n",
              "  .colab-df-quickchart-complete:disabled,\n",
              "  .colab-df-quickchart-complete:disabled:hover {\n",
              "    background-color: var(--disabled-bg-color);\n",
              "    fill: var(--disabled-fill-color);\n",
              "    box-shadow: none;\n",
              "  }\n",
              "\n",
              "  .colab-df-spinner {\n",
              "    border: 2px solid var(--fill-color);\n",
              "    border-color: transparent;\n",
              "    border-bottom-color: var(--fill-color);\n",
              "    animation:\n",
              "      spin 1s steps(1) infinite;\n",
              "  }\n",
              "\n",
              "  @keyframes spin {\n",
              "    0% {\n",
              "      border-color: transparent;\n",
              "      border-bottom-color: var(--fill-color);\n",
              "      border-left-color: var(--fill-color);\n",
              "    }\n",
              "    20% {\n",
              "      border-color: transparent;\n",
              "      border-left-color: var(--fill-color);\n",
              "      border-top-color: var(--fill-color);\n",
              "    }\n",
              "    30% {\n",
              "      border-color: transparent;\n",
              "      border-left-color: var(--fill-color);\n",
              "      border-top-color: var(--fill-color);\n",
              "      border-right-color: var(--fill-color);\n",
              "    }\n",
              "    40% {\n",
              "      border-color: transparent;\n",
              "      border-right-color: var(--fill-color);\n",
              "      border-top-color: var(--fill-color);\n",
              "    }\n",
              "    60% {\n",
              "      border-color: transparent;\n",
              "      border-right-color: var(--fill-color);\n",
              "    }\n",
              "    80% {\n",
              "      border-color: transparent;\n",
              "      border-right-color: var(--fill-color);\n",
              "      border-bottom-color: var(--fill-color);\n",
              "    }\n",
              "    90% {\n",
              "      border-color: transparent;\n",
              "      border-bottom-color: var(--fill-color);\n",
              "    }\n",
              "  }\n",
              "</style>\n",
              "\n",
              "      <script>\n",
              "        async function quickchart(key) {\n",
              "          const quickchartButtonEl =\n",
              "            document.querySelector('#' + key + ' button');\n",
              "          quickchartButtonEl.disabled = true;  // To prevent multiple clicks.\n",
              "          quickchartButtonEl.classList.add('colab-df-spinner');\n",
              "          try {\n",
              "            const charts = await google.colab.kernel.invokeFunction(\n",
              "                'suggestCharts', [key], {});\n",
              "          } catch (error) {\n",
              "            console.error('Error during call to suggestCharts:', error);\n",
              "          }\n",
              "          quickchartButtonEl.classList.remove('colab-df-spinner');\n",
              "          quickchartButtonEl.classList.add('colab-df-quickchart-complete');\n",
              "        }\n",
              "        (() => {\n",
              "          let quickchartButtonEl =\n",
              "            document.querySelector('#df-1cafaffb-63c2-4a0c-95fe-38d0749c0bab button');\n",
              "          quickchartButtonEl.style.display =\n",
              "            google.colab.kernel.accessAllowed ? 'block' : 'none';\n",
              "        })();\n",
              "      </script>\n",
              "    </div>\n",
              "\n",
              "    </div>\n",
              "  </div>\n"
            ],
            "application/vnd.google.colaboratory.intrinsic+json": {
              "type": "dataframe",
              "variable_name": "df1"
            }
          },
          "metadata": {},
          "execution_count": 20
        }
      ]
    },
    {
      "cell_type": "code",
      "source": [
        "plt.figure(figsize = (10,8))\n",
        "sns.heatmap(df1.corr(numeric_only=True),  annot = True, cmap = 'magma' )\n",
        "plt.title(\"Correlation Matrix\")\n",
        "plt.show()"
      ],
      "metadata": {
        "colab": {
          "base_uri": "https://localhost:8080/",
          "height": 808
        },
        "id": "ozt8HJdECec7",
        "outputId": "ce27d269-a56a-4538-8b86-20d86e589d49"
      },
      "execution_count": 21,
      "outputs": [
        {
          "output_type": "display_data",
          "data": {
            "text/plain": [
              "<Figure size 1000x800 with 2 Axes>"
            ],
            "image/png": "[encoded data removed]"
          },
          "metadata": {}
        }
      ]
    },
    {
      "cell_type": "markdown",
      "source": [
        "- Only Product_Category has a moderate negative correlation (-0.34) with Purchase amount"
      ],
      "metadata": {
        "id": "uEVi1LpdFOyK"
      }
    },
    {
      "cell_type": "markdown",
      "source": [
        "# Insights on Non- Graphical and Visual Analysis\n",
        "\n",
        "  - Count of purchase by male (Count : 414259) is much higher than count of purchases made by female (Count : 135809) i.e. 75.31% are transactions are made by male and 24.69% transactions made by female\n",
        "\n",
        "  - Total purchases by male (Total : USD 3909580100) is much higher than total purchase made by female (USD 1186232642). Similar ratio as transaction count persists from Total Purchase perspective\n",
        "\n",
        "  - Mean Purchase amount for Male is  9437.53 and for Female it's 8734.57. Mean is impacted by Outliers.\n",
        "\n",
        "  - Median pruchase amount for male is 8098 and for female it's 7914. Here the purchase differnce shrinks as Males have more / higher value outliers than Female buyers.\n",
        "\n",
        "  - Males have higher Total, Mean and Meadian purchases with respect to Females\n",
        "\n",
        "  - Regardless of Marital_Status, Mean and Median purchase amount per transaction for Male is higher than that of female\n",
        "\n",
        "  - Regardless of City_Category, Mean and Median purchase amount per transaction for Male is higher than that of female\n",
        "\n",
        "  - Only Product_Category has a moderate negative correlation (-0.34) with Purchase amount"
      ],
      "metadata": {
        "id": "2vk1wrVzF-dj"
      }
    },
    {
      "cell_type": "code",
      "source": [
        "##################################################################################################################################################################################################################"
      ],
      "metadata": {
        "id": "Skf3QQzHzL6s"
      },
      "execution_count": 22,
      "outputs": []
    },
    {
      "cell_type": "code",
      "source": [
        "##################################################################################################################################################################################################################"
      ],
      "metadata": {
        "id": "PhhA9isQzNJk"
      },
      "execution_count": 23,
      "outputs": []
    },
    {
      "cell_type": "markdown",
      "source": [
        "# Business Problem\n",
        "\n",
        "  - Does the spending habits differ between male and female customers : Do women spend more on Black Friday than men? (Assume 50 million customers are male and 50 million are female).\n",
        "\n",
        "\n"
      ],
      "metadata": {
        "id": "UljjkCmuTs9z"
      }
    },
    {
      "cell_type": "markdown",
      "source": [
        "###1 : Are women spending more money per transaction than men? Why or Why not?"
      ],
      "metadata": {
        "id": "z7Osg-rdT0W8"
      }
    },
    {
      "cell_type": "code",
      "source": [
        "female_purchase = df[df['Gender'] == 'F']['Purchase']\n",
        "male_purchase = df[df['Gender'] == 'M']['Purchase']\n",
        "\n",
        "print(f\"Female Purchase Mean : {round(female_purchase.mean(),2)}\")\n",
        "print(f\"Female Purchase SD : {round(female_purchase.std(),5)}\")\n",
        "\n",
        "print(f\"Male Purchase Mean : {round(male_purchase.mean(),2)}\")\n",
        "print(f\"Male Purchase SD : {round(male_purchase.std(),5)}\")"
      ],
      "metadata": {
        "colab": {
          "base_uri": "https://localhost:8080/"
        },
        "id": "vbThO6BeTsSD",
        "outputId": "aba4fabe-5c38-414b-b648-6066d21eec70"
      },
      "execution_count": 24,
      "outputs": [
        {
          "output_type": "stream",
          "name": "stdout",
          "text": [
            "Female Purchase Mean : 8734.57\n",
            "Female Purchase SD : 4767.23329\n",
            "Male Purchase Mean : 9437.53\n",
            "Male Purchase SD : 5092.18621\n"
          ]
        }
      ]
    },
    {
      "cell_type": "markdown",
      "source": [
        "- Apparently it looks like Women are spending less than Men per transaction. But it can be due to Outliers as well.\n",
        "\n",
        "- We need to perform statistical test to validate this"
      ],
      "metadata": {
        "id": "4kdNISFiI4Ur"
      }
    },
    {
      "cell_type": "code",
      "source": [
        "# Ho : Average purchase by female <= Average purchase by male\n",
        "# Ha : Average purchase by female > Average purchase by male\n",
        "# Confidence Level = 95%\n",
        "# Significance Level = 5% (alpha)\n",
        "\n",
        "t_stat, p_value = ttest_ind(female_purchase, male_purchase,alternative = 'greater')\n",
        "print(f\"t-statistic : {t_stat}\")\n",
        "print(f\"p-value : {p_value}\")\n",
        "\n",
        "if p_value < 0.05:\n",
        "    print(\"Reject the null hypothesis\")\n",
        "else:\n",
        "    print(\"Fail to reject the null hypothesis\")\n"
      ],
      "metadata": {
        "colab": {
          "base_uri": "https://localhost:8080/"
        },
        "id": "S5bbnN_yJ00k",
        "outputId": "2a5c72bc-33e6-44a6-84de-000352dfb3c0"
      },
      "execution_count": 25,
      "outputs": [
        {
          "output_type": "stream",
          "name": "stdout",
          "text": [
            "t-statistic : -44.837957934353966\n",
            "p-value : 1.0\n",
            "Fail to reject the null hypothesis\n"
          ]
        }
      ]
    },
    {
      "cell_type": "markdown",
      "source": [
        "- p_value > alpha\n",
        "- There is no significant evidence of \"average purchase by Female per transaction is greater than that of male\"\n",
        "- So, we can conclude, average purchase by male per transaction is greater than that of female"
      ],
      "metadata": {
        "id": "Cc1F-LbTLD0L"
      }
    },
    {
      "cell_type": "markdown",
      "source": [
        "###2 : Confidence intervals and distribution of the mean of the expenses by female and male customers"
      ],
      "metadata": {
        "id": "g8NJKVrUT4xs"
      }
    },
    {
      "cell_type": "code",
      "source": [
        "x1 = np.array(female_purchase)\n",
        "x2 = np.array(male_purchase)\n",
        "\n",
        "# Sample sizes\n",
        "n1 = len(x1)\n",
        "n2 = len(x2)\n",
        "\n",
        "# Sample means\n",
        "mean1 = x1.mean()\n",
        "mean2 = x2.mean()\n",
        "\n",
        "# Sample standard deviations (as estimates of population std)\n",
        "std1 = x1.std(ddof=1)\n",
        "std2 = x2.std(ddof=1)\n",
        "\n",
        "# Standard error\n",
        "se = np.sqrt((std1**2)/n1 + (std2**2)/n2)\n",
        "\n",
        "# Z critical value for 95% confidence\n",
        "z_crit = norm.ppf(0.975)  # two-tailed 95%\n",
        "\n",
        "# Confidence interval\n",
        "diff = mean1 - mean2\n",
        "ci_low = diff - z_crit * se\n",
        "ci_upp = diff + z_crit * se\n",
        "\n",
        "print(f\"95% Confidence Interval (Z-Test): ({ci_low:.3f}, {ci_upp:.3f})\")"
      ],
      "metadata": {
        "colab": {
          "base_uri": "https://localhost:8080/"
        },
        "id": "Q8RhhqVUT8U7",
        "outputId": "d64985f8-2be6-4a36-ed3c-528fcf878139"
      },
      "execution_count": 26,
      "outputs": [
        {
          "output_type": "stream",
          "name": "stdout",
          "text": [
            "95% Confidence Interval (Z-Test): (-732.680, -673.240)\n"
          ]
        }
      ]
    },
    {
      "cell_type": "markdown",
      "source": [
        "- At 95% confidence level, Confidence interval = [-732.680, -673.240]\n",
        "- As per CLT, the Smaple Ditribution follows Gaussian regardless of the population as the sample size for both the samples are much bigger than 30"
      ],
      "metadata": {
        "id": "1HCn3ka0Rv5l"
      }
    },
    {
      "cell_type": "markdown",
      "source": [
        "###3 : Are confidence intervals of average male and female spending overlapping? How can Walmart leverage this conclusion to make changes or improvements?"
      ],
      "metadata": {
        "id": "DybCxzOhT_sL"
      }
    },
    {
      "cell_type": "code",
      "source": [
        "print(f\"Female Purchase Mean : {round(female_purchase.mean(),2)}\")\n",
        "print(f\"Female Purchase SD : {round(female_purchase.std(),5)}\")\n",
        "\n",
        "print(f\"Male Purchase Mean : {round(male_purchase.mean(),2)}\")\n",
        "print(f\"Male Purchase SD : {round(male_purchase.std(),5)}\")"
      ],
      "metadata": {
        "colab": {
          "base_uri": "https://localhost:8080/"
        },
        "id": "cxyQQIrxUBd7",
        "outputId": "b7ed2e5a-5aaa-4a3e-adeb-dfcb1c79886a"
      },
      "execution_count": 27,
      "outputs": [
        {
          "output_type": "stream",
          "name": "stdout",
          "text": [
            "Female Purchase Mean : 8734.57\n",
            "Female Purchase SD : 4767.23329\n",
            "Male Purchase Mean : 9437.53\n",
            "Male Purchase SD : 5092.18621\n"
          ]
        }
      ]
    },
    {
      "cell_type": "code",
      "source": [
        "CI_Upper_F = female_purchase.mean() + norm.ppf(0.975) * (female_purchase.std() / np.sqrt(len(female_purchase)))\n",
        "CI_Lower_F = female_purchase.mean() - norm.ppf(0.975) * (female_purchase.std() / np.sqrt(len(female_purchase)))\n",
        "\n",
        "print(f\"Female Confidence Interval : ({CI_Lower_F}, {CI_Upper_F})\")\n",
        "\n",
        "CI_Upper_M = male_purchase.mean() + norm.ppf(0.975) * (male_purchase.std() / np.sqrt(len(male_purchase)))\n",
        "CI_Lower_M = male_purchase.mean() - norm.ppf(0.975) * (male_purchase.std() / np.sqrt(len(male_purchase)))\n",
        "\n",
        "print(f\"Male Confidence Interval : ({CI_Lower_M}, {CI_Upper_M})\")"
      ],
      "metadata": {
        "colab": {
          "base_uri": "https://localhost:8080/"
        },
        "id": "zaWRqKQ5T7g3",
        "outputId": "2c3b9e06-98b3-4123-d2b4-e3f70778eae1"
      },
      "execution_count": 28,
      "outputs": [
        {
          "output_type": "stream",
          "name": "stdout",
          "text": [
            "Female Confidence Interval : (8709.21154714068, 8759.919983170272)\n",
            "Male Confidence Interval : (9422.01944736257, 9453.032633581959)\n"
          ]
        }
      ]
    },
    {
      "cell_type": "markdown",
      "source": [
        "- The confidence intervals of average male and female spendings are not overlapping\n",
        "- That means, there is a statistically significant difference between the average spending of male and female customers — and specifically, males spend more on average than females\n",
        "\n",
        "\n",
        "\n",
        "\n",
        "\n"
      ],
      "metadata": {
        "id": "F9eieDIzVDsp"
      }
    },
    {
      "cell_type": "markdown",
      "source": [
        "###4 : Results when the same activity is performed for Married vs Unmarried"
      ],
      "metadata": {
        "id": "okZ-wC1RUD6s"
      }
    },
    {
      "cell_type": "code",
      "source": [
        "ms0 = df[df['Marital_Status'] == 0]['Purchase']\n",
        "ms1 = df[df['Marital_Status'] == 1]['Purchase']\n",
        "\n",
        "ms0_mean = ms0.mean()\n",
        "ms0_std = ms0.std()\n",
        "\n",
        "ms1_mean = ms1.mean()\n",
        "ms1_std = ms1.std()\n",
        "\n",
        "print(f\"Marital Status 0 (Unmarried) Purchase Mean : {round(ms0_mean,2)}\")\n",
        "print(f\"Marital Status 1 (Married) Purchase Mean : {round(ms1_mean,2)}\")\n",
        "#print(f\"Marital Status 0 (Unmarried) Purchase SD : {round(ms0_std,5)}\")\n",
        "#print(f\"Marital Status 1 (Married) Purchase SD : {round(ms1_std,5)}\")\n",
        "\n"
      ],
      "metadata": {
        "colab": {
          "base_uri": "https://localhost:8080/"
        },
        "id": "Gzttx8mmXIcw",
        "outputId": "671bdefd-6789-404d-e4c2-2aa5d943b8ba"
      },
      "execution_count": 29,
      "outputs": [
        {
          "output_type": "stream",
          "name": "stdout",
          "text": [
            "Marital Status 0 (Unmarried) Purchase Mean : 9265.91\n",
            "Marital Status 1 (Married) Purchase Mean : 9261.17\n"
          ]
        }
      ]
    },
    {
      "cell_type": "markdown",
      "source": [
        " - Mean purchase for unmarried and married buyers are very close and apparently looks like there is no significant difference in mean\n",
        " - To confirm the observation we'll perform a 2-sample Test"
      ],
      "metadata": {
        "id": "E8Je5xeUYqqi"
      }
    },
    {
      "cell_type": "code",
      "source": [
        "# Ho : mean purchase by married = mean purchase by unmarried\n",
        "# Ha : mean purchase by married != mean purchase by unmarried\n",
        "# Confidence Level = 95%\n",
        "# Significance Level = 5% (alpha)\n",
        "\n",
        "t_stat, p_value = ttest_ind(ms0, ms1,alternative = 'two-sided')\n",
        "print(f\"t-statistic : {t_stat}\")\n",
        "print(f\"p-value : {p_value}\")"
      ],
      "metadata": {
        "colab": {
          "base_uri": "https://localhost:8080/"
        },
        "id": "VmEPBbkAYoWp",
        "outputId": "f929fe0a-11d6-4141-f663-68f756bf1352"
      },
      "execution_count": 30,
      "outputs": [
        {
          "output_type": "stream",
          "name": "stdout",
          "text": [
            "t-statistic : 0.3436698055440526\n",
            "p-value : 0.7310947525758316\n"
          ]
        }
      ]
    },
    {
      "cell_type": "markdown",
      "source": [
        "- p_value > alpha\n",
        "- We fail to reject Ho\n",
        "- There is no significant evidence to conclude mean purchase by married and unmarried buyers are different."
      ],
      "metadata": {
        "id": "-AKWhwUlZpJh"
      }
    },
    {
      "cell_type": "markdown",
      "source": [
        "###5 : Results when the same activity is performed for Age"
      ],
      "metadata": {
        "id": "mAcqmS3TUIgL"
      }
    },
    {
      "cell_type": "code",
      "source": [
        "age1 = df1[df1['Age'] == 1]['Purchase']\n",
        "age2 = df1[df1['Age'] == 2]['Purchase']\n",
        "age3 = df1[df1['Age'] == 3]['Purchase']\n",
        "age4 = df1[df1['Age'] == 4]['Purchase']\n",
        "age5 = df1[df1['Age'] == 5]['Purchase']\n",
        "age6 = df1[df1['Age'] == 6]['Purchase']\n",
        "age7 = df1[df1['Age'] == 7]['Purchase']"
      ],
      "metadata": {
        "id": "90EDtFRIUQ-T"
      },
      "execution_count": 31,
      "outputs": []
    },
    {
      "cell_type": "code",
      "source": [
        "plt.figure()\n",
        "# Calculate mean purchase by age\n",
        "age_total_purchase = df1.groupby(['Age'])['Purchase'].mean().reset_index()\n",
        "print(age_total_purchase)\n",
        "sns.barplot(data = age_total_purchase, y = 'Purchase',x = 'Age')\n",
        "plt.title(\"Mean Purchase by Age Group\")\n",
        "plt.legend(loc='lower right')"
      ],
      "metadata": {
        "colab": {
          "base_uri": "https://localhost:8080/",
          "height": 675
        },
        "id": "EGZia7QeeCsS",
        "outputId": "2b83356e-441e-4379-c1d5-489b5bb92fa0"
      },
      "execution_count": 32,
      "outputs": [
        {
          "output_type": "stream",
          "name": "stdout",
          "text": [
            "   Age     Purchase\n",
            "0    1  8933.464640\n",
            "1    2  9169.663606\n",
            "2    3  9252.690633\n",
            "3    4  9331.350695\n",
            "4    5  9208.625697\n",
            "5    6  9534.808031\n",
            "6    7  9336.280459\n"
          ]
        },
        {
          "output_type": "stream",
          "name": "stderr",
          "text": [
            "/tmp/ipython-input-400149060.py:7: UserWarning: No artists with labels found to put in legend.  Note that artists whose label start with an underscore are ignored when legend() is called with no argument.\n",
            "  plt.legend(loc='lower right')\n"
          ]
        },
        {
          "output_type": "execute_result",
          "data": {
            "text/plain": [
              "<matplotlib.legend.Legend at 0x7c4e4a81d040>"
            ]
          },
          "metadata": {},
          "execution_count": 32
        },
        {
          "output_type": "display_data",
          "data": {
            "text/plain": [
              "<Figure size 640x480 with 1 Axes>"
            ],
            "image/png": "[encoded data removed]"
          },
          "metadata": {}
        }
      ]
    },
    {
      "cell_type": "code",
      "source": [
        "# Ho : There is no significant difference in Mean Purchase of each age group\n",
        "# Ha : At least one age group has significantly different Mean Purchase\n",
        "#Confidence Level : 95%\n",
        "\n",
        "from scipy.stats import f_oneway\n",
        "\n",
        "f_stat, p_value = f_oneway(age1, age2, age3, age4, age5, age6, age7)\n",
        "print(f\"f-statistic : {f_stat}\")\n",
        "print(f\"p-value : {p_value}\")\n",
        "\n",
        "if p_value < 0.05:\n",
        "    print(\"Reject the null hypothesis\")\n",
        "    print(\"At least one age group has significantly different Mean Purchase\")\n",
        "else:\n",
        "    print(\"Fail to reject the null hypothesis\")\n",
        "    print(\"There is no significant difference in Mean Purchase of each age group\")"
      ],
      "metadata": {
        "colab": {
          "base_uri": "https://localhost:8080/"
        },
        "id": "dKqUynsKURNU",
        "outputId": "61c3c62a-ef56-4565-9246-b91496279ae8"
      },
      "execution_count": 33,
      "outputs": [
        {
          "output_type": "stream",
          "name": "stdout",
          "text": [
            "f-statistic : 40.57579909450407\n",
            "p-value : 1.053563939251671e-49\n",
            "Reject the null hypothesis\n",
            "At least one age group has significantly different Mean Purchase\n"
          ]
        }
      ]
    },
    {
      "cell_type": "markdown",
      "source": [
        "- p-value < alpha\n",
        "- We reject Ho\n",
        "- At least one age group has significantly different Mean Purchase"
      ],
      "metadata": {
        "id": "Zgo9r4RFfvGe"
      }
    },
    {
      "cell_type": "code",
      "source": [
        "##################################################################################################################################################################################################################"
      ],
      "metadata": {
        "id": "N0cqoEUQy-a8"
      },
      "execution_count": 34,
      "outputs": []
    },
    {
      "cell_type": "code",
      "source": [
        "##################################################################################################################################################################################################################"
      ],
      "metadata": {
        "id": "jhKfqDeizHg8"
      },
      "execution_count": 35,
      "outputs": []
    },
    {
      "cell_type": "markdown",
      "source": [
        "# Final Insights - insights based on exploration and CLT\n",
        "    - Comments on the distribution of the variables and relationship between them\n",
        "    - Comments for each univariate and bivariate plots\n",
        "    - Comments on different variables when generalizing it for Population"
      ],
      "metadata": {
        "id": "NInUByTqURwT"
      }
    },
    {
      "cell_type": "markdown",
      "source": [
        " - As per CLT, the Smaple Ditribution follows Gaussian regardless of the population as the sample size for both the samples are much bigger than 30\n",
        "\n",
        " - Any purchase above $24333.16 is an Outlier\n",
        "\n",
        " - Count of purchase by male (Count : 414259) is much higher than count of purchases made by female (Count : 135809) i.e. 75.31% are transactions are made by male and 24.69% transactions made by female\n",
        "\n",
        " - Total purchases by male (Total : USD 3909580100) is much higher than total purchase made by female (USD 1186232642). Similar ratio as transaction count, persists from Total Purchase perspective\n",
        "\n",
        " - Mean Purchase amount for Male is  9437.53 and for Female it's 8734.57. Mean is impacted by Outliers.\n",
        "\n",
        " - Median pruchase amount for male is 8098 and for female it's 7914. Here the differnce in purchase amount shrinks as Males have more / higher value outliers than Female buyers.\n",
        "\n",
        " - Males have higher Total, Mean and Meadian purchases with respect to Females\n",
        "\n",
        " - Regardless of Marital_Status, Mean and Median purchase amount per transaction for Male is higher than that of female\n",
        "\n",
        " - Regardless of City_Category, Mean and Median purchase amount per transaction for Male is higher than that of female\n",
        "\n",
        " - Only Product_Category has a moderate negative correlation (-0.34) with Purchase amount\n",
        "\n",
        " - Based on Hypothesis test result, we can conclude, it is statistically proven that, average purchase by male per transaction is greater than that of female\n",
        "\n",
        " - Based on Confidence Interval study, we can conclude, The confidence intervals of average male and female spendings are not overlapping. That means, there is a statistically significant difference between the average spending of male and female customers — and specifically, males spend more on average than females\n",
        "\n",
        " - There is no significant evidence to conclude mean purchase by married and unmarried buyers are different.\n",
        "\n",
        " - At least one age group has significantly different Mean Purchase"
      ],
      "metadata": {
        "id": "OhRPIcepsM2q"
      }
    },
    {
      "cell_type": "code",
      "source": [
        "##################################################################################################################################################################################################################"
      ],
      "metadata": {
        "id": "QSrJ1LyMUif7"
      },
      "execution_count": 36,
      "outputs": []
    },
    {
      "cell_type": "code",
      "source": [
        "##################################################################################################################################################################################################################"
      ],
      "metadata": {
        "id": "bVB93Ir9zI4D"
      },
      "execution_count": 37,
      "outputs": []
    },
    {
      "cell_type": "markdown",
      "source": [
        "# Recommendations\n",
        "    - Actionable items for business. No technical jargon. No complication\n",
        "    - Simple action items that everyone can understand"
      ],
      "metadata": {
        "id": "vBltjdRhUi6j"
      }
    },
    {
      "cell_type": "markdown",
      "source": [
        " - Target Male Customers with Premium or High-Value Product (Product Category) Offerings as male buyers have spent highest from total, mean and median stand point\n",
        "\n",
        " - Develop Strategies to Increase Female Buyer Engagement like targeted discounts etc.\n",
        "\n",
        " - Promote Product categories with higher product price\n",
        "\n",
        " - Promote the higher priced products in each product category\n",
        "\n",
        " - Demographic based personalization to done for sales promotions\n",
        "      - Gender : As gender has stronger relationship with purchase amount than any other parameter\n",
        "      - Age : At least one group has significantly different mean purchase\n",
        "      - City_Category : Personalized sales promotion for City_Categories\n",
        "\n",
        " - Explore and target high-spending male subsegment as males have more and high value outliers"
      ],
      "metadata": {
        "id": "MDdrEbIgwF-s"
      }
    },
    {
      "cell_type": "code",
      "source": [
        "##################################################################################################################################################################################################################"
      ],
      "metadata": {
        "id": "2rMvhUKSzpEc"
      },
      "execution_count": 38,
      "outputs": []
    },
    {
      "cell_type": "code",
      "source": [
        "##################################################################################################################################################################################################################"
      ],
      "metadata": {
        "id": "6w_prYPpzraC"
      },
      "execution_count": 39,
      "outputs": []
    }
  ]
}